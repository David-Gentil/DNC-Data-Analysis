{
  "nbformat": 4,
  "nbformat_minor": 0,
  "metadata": {
    "colab": {
      "provenance": [],
      "authorship_tag": "ABX9TyMmeVZi2wt0KEf7+BPSzAfi",
      "include_colab_link": true
    },
    "kernelspec": {
      "name": "python3",
      "display_name": "Python 3"
    },
    "language_info": {
      "name": "python"
    }
  },
  "cells": [
    {
      "cell_type": "markdown",
      "metadata": {
        "id": "view-in-github",
        "colab_type": "text"
      },
      "source": [
        "<a href=\"https://colab.research.google.com/github/David-Gentil/David-Gentil/blob/main/Desafio_DNC_Condicionais.ipynb\" target=\"_parent\"><img src=\"https://colab.research.google.com/assets/colab-badge.svg\" alt=\"Open In Colab\"/></a>"
      ]
    },
    {
      "cell_type": "markdown",
      "source": [
        "1-Seu primeiro desafio é desenvolver um programa para um depósito de bebidas que valide venda de bebidas para maiores de idade (maior ou igual 18 anos) no mercado, o programa deve receber do usuário os valores do nome e ano que ele nasceu e retornar se ele pode comprar bebidas."
      ],
      "metadata": {
        "id": "dFYhqmEw04AN"
      }
    },
    {
      "cell_type": "code",
      "source": [
        "#Informações de Data Atual\n",
        "AnoAtual = int(input(\"Digite o ano atual: \"))\n",
        "MesAtual = int(input(\"Digite o mês atual: \"))\n",
        "DiaAtual = int(input(\"Digite o dia atual: \"))\n",
        "\n",
        "#Informações do Usuário\n",
        "Nome = input(\"Digite seu nome: \")\n",
        "Dia = int(input(\"Digite seu dia de nascimento: \"))\n",
        "Mes = int(input(\"Digite seu mês de nascimento: \"))\n",
        "Ano = int(input(\"Digite seu ano de nascimento: \"))\n",
        "\n",
        "#Condicional\n",
        "if AnoAtual - Ano > 18:\n",
        "    print(\"Você pode comprar bebidas alcoólicas\")\n",
        "elif AnoAtual - Ano == 18:\n",
        "    if MesAtual > Mes:\n",
        "        print(\"Você pode comprar bebidas alcoólicas\")\n",
        "    elif MesAtual == Mes:\n",
        "        if DiaAtual >= Dia:\n",
        "            print(\"Você pode comprar bebidas alcoólicas\")\n",
        "        else:\n",
        "            print(\"Você não pode comprar bebidas alcoólicas\")\n",
        "    else:\n",
        "        print(\"Você não pode comprar bebidas alcoólicas\")\n",
        "else:\n",
        "    print(\"Você não pode comprar bebidas alcoólicas\")"
      ],
      "metadata": {
        "colab": {
          "base_uri": "https://localhost:8080/"
        },
        "id": "sqvDnzvr1ESM",
        "outputId": "bcb83587-1c9d-4d80-a139-c337df2018a0"
      },
      "execution_count": null,
      "outputs": [
        {
          "output_type": "stream",
          "name": "stdout",
          "text": [
            "Digite o ano atual: 2024\n",
            "Digite o mês atual: 11\n",
            "Digite o dia atual: 8\n",
            "Digite seu nome: David Gentil\n",
            "Digite seu dia de nascimento: 1985\n",
            "Digite seu mês de nascimento: 11\n",
            "Digite seu ano de nascimento: 13\n",
            "Você pode comprar bebidas alcoólicas\n"
          ]
        }
      ]
    },
    {
      "cell_type": "markdown",
      "source": [
        "2-Esse bimestre na faculdade você precisa tirar nota 8 de média para passar na matéria, desenvolva um script que leia a nota de suas últimas 3 provas, tire a média delas e verifique se você passou."
      ],
      "metadata": {
        "id": "VsNFMpLl48Tm"
      }
    },
    {
      "cell_type": "code",
      "source": [
        "#Informações sobre as 3 últimas provas\n",
        "\n",
        "N1 = float(input('Digite a primeira nota: '))\n",
        "N2 = float(input('Digite a segunda nota: '))\n",
        "N3 = float(input('Digite a terceira nota: '))\n",
        "Media = (N1 + N2 + N3) / 3\n",
        "\n",
        "#Condicional\n",
        "if Media >= 8:\n",
        "    print('Você passou, e sua média foi: ',round(Media,2))\n",
        "else:\n",
        "    print('Você não passou, e sua média foi: ',round(Media,2))\n"
      ],
      "metadata": {
        "colab": {
          "base_uri": "https://localhost:8080/"
        },
        "id": "rjICckgV5Zgd",
        "outputId": "99159bb4-4096-4631-e3e6-5c4e55148334"
      },
      "execution_count": null,
      "outputs": [
        {
          "output_type": "stream",
          "name": "stdout",
          "text": [
            "Digite a primeira nota: 8\n",
            "Digite a segunda nota: 9\n",
            "Digite a terceira nota: 8\n",
            "Você passou, e sua média foi:  8.33\n"
          ]
        }
      ]
    },
    {
      "cell_type": "markdown",
      "source": [
        "3-A fisioterapeuta que você vai gosta muito de brincar com números, e pediu para você criar um sistema que verifique se a altura inserida é par ou impar."
      ],
      "metadata": {
        "id": "M_GFbXMw9dOn"
      }
    },
    {
      "cell_type": "code",
      "source": [
        "#Dados\n",
        "Altura = float(input('Digite sua altura: '))\n",
        "\n",
        "#Condicional\n",
        "if (Altura*100) % 2 == 0:\n",
        "    print('Sua altura é par')\n",
        "else:\n",
        "    print('Sua altura é ímpar')"
      ],
      "metadata": {
        "colab": {
          "base_uri": "https://localhost:8080/"
        },
        "id": "VQPWK1R39r07",
        "outputId": "22b8d249-9889-4356-beab-a4c834c31e5d"
      },
      "execution_count": null,
      "outputs": [
        {
          "output_type": "stream",
          "name": "stdout",
          "text": [
            "Digite sua altura: 1.75\n",
            "Sua altura é ímpar\n"
          ]
        }
      ]
    },
    {
      "cell_type": "markdown",
      "source": [
        "4-Faça um script que você coloque a quantidade de dias e descubra em qual trimestre esse dia está no ano."
      ],
      "metadata": {
        "id": "7lpBqx35_x9S"
      }
    },
    {
      "cell_type": "code",
      "source": [
        "#Dados\n",
        "DiasAno = int(input('O ano tem 365 ou 366 dias? '))\n",
        "Dias = int(input('Digite a quantidade de dias no ano: '))\n",
        "\n",
        "#Condicional\n",
        "if Dias <= DiasAno / 4:\n",
        "    print('O dia está no primeiro trimestre')\n",
        "elif Dias <= DiasAno / 2:\n",
        "    print('O dia está no segundo trimestre')\n",
        "elif Dias <= DiasAno * 3 / 4:\n",
        "    print('O dia está no terceiro trimestre')\n",
        "else:\n",
        "    print('O dia está no quarto trimestre')"
      ],
      "metadata": {
        "colab": {
          "base_uri": "https://localhost:8080/"
        },
        "id": "o4oE1mAM_3tQ",
        "outputId": "e3e99e20-4dc6-4d71-fb5d-0bf65b07ac98"
      },
      "execution_count": null,
      "outputs": [
        {
          "output_type": "stream",
          "name": "stdout",
          "text": [
            "O ano tem 365 ou 366 dias? 366\n",
            "Digite a quantidade de dias no ano: 180\n",
            "O dia está no segundo trimestre\n"
          ]
        }
      ]
    },
    {
      "cell_type": "markdown",
      "source": [
        "5-Desenvolva um sistema que leia 3 números e diga qual é o maior (se houver empate, exiba os empatados)."
      ],
      "metadata": {
        "id": "nQYePh3-EWxx"
      }
    },
    {
      "cell_type": "code",
      "source": [
        "#Dados\n",
        "\n",
        "N1 = float(input('Digite o primeiro número: '))\n",
        "N2 = float(input('Digite o segundo número: '))\n",
        "N3 = float(input('Digite o terceiro número: '))\n",
        "\n",
        "#Condicional\n",
        "if N1 > N2 and N1 > N3:\n",
        "    print('O primeiro número, {}, é o maior' .format(N1))\n",
        "elif N1 == N2 and N1 > N3:\n",
        "    print('O primeiro e segundo número são iguais a {}, e são os maiores' .format(N1))\n",
        "elif N1 > N2 and N1 == N3:\n",
        "    print('O primeiro e terceiro número são iguais a {}, e são os maiores' .format(N1))\n",
        "elif N1 < N2 and N2 == N3:\n",
        "    print('O segundo e terceiro número são iguais a {}, e são os maiores' .format(N2))\n",
        "elif N1 == N2 and N1 == N3:\n",
        "    print('Os três números são iguais')\n",
        "elif N2 > N1 and N2 > N3:\n",
        "    print('O segundo número, {}, é o maior' .format(N2))\n",
        "else:\n",
        "    print('O terceiro número {}, é o maior' .format(N2))"
      ],
      "metadata": {
        "colab": {
          "base_uri": "https://localhost:8080/"
        },
        "id": "CcgzqjZGEbee",
        "outputId": "48a79225-4769-4469-9595-59bdb6fc7fed"
      },
      "execution_count": null,
      "outputs": [
        {
          "output_type": "stream",
          "name": "stdout",
          "text": [
            "Digite o primeiro número: 2\n",
            "Digite o segundo número: 3\n",
            "Digite o terceiro número: 3\n",
            "O segundo e terceiro número são iguais a 3.0, e são os maiores\n"
          ]
        }
      ]
    }
  ]
}